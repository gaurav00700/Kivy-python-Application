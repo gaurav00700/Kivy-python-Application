{
 "cells": [
  {
   "cell_type": "code",
   "execution_count": 3,
   "metadata": {},
   "outputs": [],
   "source": [
    "# importing libraries \n",
    "%matplotlib inline\n",
    "import numpy as np \n",
    "import pandas as pd\n",
    "import matplotlib.pyplot as plt\n",
    "import seaborn as sns\n",
    "import warnings\n",
    "warnings.filterwarnings('ignore')"
   ]
  },
  {
   "cell_type": "code",
   "execution_count": 4,
   "metadata": {},
   "outputs": [],
   "source": [
    "# reading raw data file\n",
    "columns = ['user','activity','timestamp', 'x-axis', 'y-axis', 'z-axis']\n",
    "df= pd.read_csv('/Users/gauravsharma/Documents/DIT/Lectures/KI5 Case Study Embedded Control Solutions/Project/Model/WISDM_ar_v1.1_raw.txt',on_bad_lines='skip', header = None, names = columns)"
   ]
  },
  {
   "cell_type": "code",
   "execution_count": 5,
   "metadata": {},
   "outputs": [
    {
     "data": {
      "text/plain": [
       "Walking       418394\n",
       "Jogging       336445\n",
       "Upstairs      122869\n",
       "Downstairs    100425\n",
       "Sitting        59939\n",
       "Standing       48394\n",
       "Name: activity, dtype: int64"
      ]
     },
     "execution_count": 5,
     "metadata": {},
     "output_type": "execute_result"
    }
   ],
   "source": [
    "df['activity'].value_counts()"
   ]
  },
  {
   "cell_type": "code",
   "execution_count": 6,
   "metadata": {},
   "outputs": [
    {
     "data": {
      "text/html": [
       "<div>\n",
       "<style scoped>\n",
       "    .dataframe tbody tr th:only-of-type {\n",
       "        vertical-align: middle;\n",
       "    }\n",
       "\n",
       "    .dataframe tbody tr th {\n",
       "        vertical-align: top;\n",
       "    }\n",
       "\n",
       "    .dataframe thead th {\n",
       "        text-align: right;\n",
       "    }\n",
       "</style>\n",
       "<table border=\"1\" class=\"dataframe\">\n",
       "  <thead>\n",
       "    <tr style=\"text-align: right;\">\n",
       "      <th></th>\n",
       "      <th>user</th>\n",
       "      <th>activity</th>\n",
       "      <th>timestamp</th>\n",
       "      <th>x-axis</th>\n",
       "      <th>y-axis</th>\n",
       "      <th>z-axis</th>\n",
       "    </tr>\n",
       "  </thead>\n",
       "  <tbody>\n",
       "    <tr>\n",
       "      <th>0</th>\n",
       "      <td>33</td>\n",
       "      <td>Jogging</td>\n",
       "      <td>49105962326000</td>\n",
       "      <td>-0.694638</td>\n",
       "      <td>12.680544</td>\n",
       "      <td>0.50395286;</td>\n",
       "    </tr>\n",
       "    <tr>\n",
       "      <th>1</th>\n",
       "      <td>33</td>\n",
       "      <td>Jogging</td>\n",
       "      <td>49106062271000</td>\n",
       "      <td>5.012288</td>\n",
       "      <td>11.264028</td>\n",
       "      <td>0.95342433;</td>\n",
       "    </tr>\n",
       "    <tr>\n",
       "      <th>2</th>\n",
       "      <td>33</td>\n",
       "      <td>Jogging</td>\n",
       "      <td>49106112167000</td>\n",
       "      <td>4.903325</td>\n",
       "      <td>10.882658</td>\n",
       "      <td>-0.08172209;</td>\n",
       "    </tr>\n",
       "    <tr>\n",
       "      <th>3</th>\n",
       "      <td>33</td>\n",
       "      <td>Jogging</td>\n",
       "      <td>49106222305000</td>\n",
       "      <td>-0.612916</td>\n",
       "      <td>18.496431</td>\n",
       "      <td>3.0237172;</td>\n",
       "    </tr>\n",
       "    <tr>\n",
       "      <th>4</th>\n",
       "      <td>33</td>\n",
       "      <td>Jogging</td>\n",
       "      <td>49106332290000</td>\n",
       "      <td>-1.184970</td>\n",
       "      <td>12.108489</td>\n",
       "      <td>7.205164;</td>\n",
       "    </tr>\n",
       "    <tr>\n",
       "      <th>5</th>\n",
       "      <td>33</td>\n",
       "      <td>Jogging</td>\n",
       "      <td>49106442306000</td>\n",
       "      <td>1.375655</td>\n",
       "      <td>-2.492524</td>\n",
       "      <td>-6.510526;</td>\n",
       "    </tr>\n",
       "    <tr>\n",
       "      <th>6</th>\n",
       "      <td>33</td>\n",
       "      <td>Jogging</td>\n",
       "      <td>49106542312000</td>\n",
       "      <td>-0.612916</td>\n",
       "      <td>10.569390</td>\n",
       "      <td>5.706926;</td>\n",
       "    </tr>\n",
       "    <tr>\n",
       "      <th>7</th>\n",
       "      <td>33</td>\n",
       "      <td>Jogging</td>\n",
       "      <td>49106652389000</td>\n",
       "      <td>-0.503953</td>\n",
       "      <td>13.947236</td>\n",
       "      <td>7.0553403;</td>\n",
       "    </tr>\n",
       "    <tr>\n",
       "      <th>8</th>\n",
       "      <td>33</td>\n",
       "      <td>Jogging</td>\n",
       "      <td>49106762313000</td>\n",
       "      <td>-8.430995</td>\n",
       "      <td>11.413852</td>\n",
       "      <td>5.134871;</td>\n",
       "    </tr>\n",
       "    <tr>\n",
       "      <th>9</th>\n",
       "      <td>33</td>\n",
       "      <td>Jogging</td>\n",
       "      <td>49106872299000</td>\n",
       "      <td>0.953424</td>\n",
       "      <td>1.375655</td>\n",
       "      <td>1.6480621;</td>\n",
       "    </tr>\n",
       "  </tbody>\n",
       "</table>\n",
       "</div>"
      ],
      "text/plain": [
       "   user activity       timestamp    x-axis     y-axis        z-axis\n",
       "0    33  Jogging  49105962326000 -0.694638  12.680544   0.50395286;\n",
       "1    33  Jogging  49106062271000  5.012288  11.264028   0.95342433;\n",
       "2    33  Jogging  49106112167000  4.903325  10.882658  -0.08172209;\n",
       "3    33  Jogging  49106222305000 -0.612916  18.496431    3.0237172;\n",
       "4    33  Jogging  49106332290000 -1.184970  12.108489     7.205164;\n",
       "5    33  Jogging  49106442306000  1.375655  -2.492524    -6.510526;\n",
       "6    33  Jogging  49106542312000 -0.612916  10.569390     5.706926;\n",
       "7    33  Jogging  49106652389000 -0.503953  13.947236    7.0553403;\n",
       "8    33  Jogging  49106762313000 -8.430995  11.413852     5.134871;\n",
       "9    33  Jogging  49106872299000  0.953424   1.375655    1.6480621;"
      ]
     },
     "execution_count": 6,
     "metadata": {},
     "output_type": "execute_result"
    }
   ],
   "source": [
    "df.head(10)"
   ]
  },
  {
   "cell_type": "code",
   "execution_count": 7,
   "metadata": {},
   "outputs": [
    {
     "data": {
      "text/plain": [
       "(1086466, 6)"
      ]
     },
     "execution_count": 7,
     "metadata": {},
     "output_type": "execute_result"
    }
   ],
   "source": [
    "df.shape"
   ]
  },
  {
   "cell_type": "code",
   "execution_count": 8,
   "metadata": {},
   "outputs": [
    {
     "data": {
      "text/plain": [
       "user   activity  timestamp  x-axis  y-axis  z-axis\n",
       "False  False     False      False   False   False     1086465\n",
       "                                            True            1\n",
       "dtype: int64"
      ]
     },
     "execution_count": 8,
     "metadata": {},
     "output_type": "execute_result"
    }
   ],
   "source": [
    "df.isnull().value_counts()"
   ]
  },
  {
   "cell_type": "code",
   "execution_count": 9,
   "metadata": {},
   "outputs": [],
   "source": [
    "# removing null values rows\n",
    "df=df.dropna()"
   ]
  },
  {
   "cell_type": "code",
   "execution_count": 10,
   "metadata": {},
   "outputs": [
    {
     "data": {
      "text/plain": [
       "user   activity  timestamp  x-axis  y-axis  z-axis\n",
       "False  False     False      False   False   False     1086465\n",
       "dtype: int64"
      ]
     },
     "execution_count": 10,
     "metadata": {},
     "output_type": "execute_result"
    }
   ],
   "source": [
    "df.isnull().value_counts()"
   ]
  },
  {
   "cell_type": "code",
   "execution_count": 11,
   "metadata": {},
   "outputs": [],
   "source": [
    "# drop rows where timestamp is 0\n",
    "df = df[df['timestamp'] != 0]"
   ]
  },
  {
   "cell_type": "code",
   "execution_count": 12,
   "metadata": {},
   "outputs": [],
   "source": [
    "df = df[df['activity'].str.contains('Upstairs') == False]\n",
    "df = df[df['activity'].str.contains('Downstairs') == False]\n",
    "df = df[df['activity'].str.contains('Standing') == False]"
   ]
  },
  {
   "cell_type": "code",
   "execution_count": 13,
   "metadata": {},
   "outputs": [],
   "source": [
    "# d=(df['activity']=='Jogging').value_counts()\n",
    "# d"
   ]
  },
  {
   "cell_type": "code",
   "execution_count": 14,
   "metadata": {},
   "outputs": [
    {
     "data": {
      "text/plain": [
       "Walking    417901\n",
       "Jogging    324600\n",
       "Sitting     59939\n",
       "Name: activity, dtype: int64"
      ]
     },
     "execution_count": 14,
     "metadata": {},
     "output_type": "execute_result"
    }
   ],
   "source": [
    "df['activity'].value_counts()"
   ]
  },
  {
   "cell_type": "code",
   "execution_count": 15,
   "metadata": {},
   "outputs": [
    {
     "data": {
      "text/plain": [
       "(802440, 6)"
      ]
     },
     "execution_count": 15,
     "metadata": {},
     "output_type": "execute_result"
    }
   ],
   "source": [
    "df.shape"
   ]
  },
  {
   "cell_type": "code",
   "execution_count": 16,
   "metadata": {},
   "outputs": [],
   "source": [
    "# transforming the z-axis to float\n",
    "df['z-axis'] = df['z-axis'].str.replace(';', '')\n",
    "df['z-axis'] = df['z-axis'].apply(lambda x:float(x))"
   ]
  },
  {
   "cell_type": "code",
   "execution_count": 17,
   "metadata": {},
   "outputs": [],
   "source": [
    "# arrange data in ascending order of user and timestamp\n",
    "df = df.sort_values(by = ['user', 'timestamp'], ignore_index=True)"
   ]
  },
  {
   "cell_type": "markdown",
   "metadata": {},
   "source": [
    "Exploratory Data Analysis\n",
    "Analyzing class label distribution —"
   ]
  },
  {
   "cell_type": "code",
   "execution_count": 18,
   "metadata": {},
   "outputs": [
    {
     "data": {
      "image/png": "[encoded data removed]",
      "text/plain": [
       "<Figure size 432x288 with 1 Axes>"
      ]
     },
     "metadata": {
      "needs_background": "light"
     },
     "output_type": "display_data"
    }
   ],
   "source": [
    "sns.set_style()\n",
    "sns.countplot(x='activity', data = df)\n",
    "plt.title('Number of activity')\n",
    "plt.show()"
   ]
  },
  {
   "cell_type": "code",
   "execution_count": 19,
   "metadata": {},
   "outputs": [
    {
     "data": {
      "image/png": "[encoded data removed]",
      "text/plain": [
       "<Figure size 432x288 with 1 Axes>"
      ]
     },
     "metadata": {
      "needs_background": "light"
     },
     "output_type": "display_data"
    },
    {
     "data": {
      "image/png": "[encoded data removed]",
      "text/plain": [
       "<Figure size 432x288 with 1 Axes>"
      ]
     },
     "metadata": {
      "needs_background": "light"
     },
     "output_type": "display_data"
    },
    {
     "data": {
      "image/png": "[encoded data removed]",
      "text/plain": [
       "<Figure size 432x288 with 1 Axes>"
      ]
     },
     "metadata": {
      "needs_background": "light"
     },
     "output_type": "display_data"
    }
   ],
   "source": [
    "activities = ['Walking', 'Jogging', 'Sitting']\n",
    "for i in activities:\n",
    "    data36 = df[(df['user'] == 36) & (df['activity'] == i)][:400]\n",
    "    sns.lineplot(y = 'x-axis', x = 'timestamp', data = data36)\n",
    "    sns.lineplot(y = 'y-axis', x = 'timestamp', data = data36)\n",
    "    sns.lineplot(y = 'z-axis', x = 'timestamp', data = data36)\n",
    "    plt.legend(['x-axis', 'y-axis', 'z-axis'])\n",
    "    plt.ylabel(i)\n",
    "    plt.title(i, fontsize = 15)\n",
    "    plt.show()"
   ]
  },
  {
   "cell_type": "code",
   "execution_count": 20,
   "metadata": {},
   "outputs": [],
   "source": [
    "#Model parameters:-\n",
    "random_seed = 42   \n",
    "n_time_steps = 8 #corresponding to 2.5 secs of activity @20Hz of data collection requency\n",
    "step = 2 # 40 data out of 50 is passed\n",
    "n_features = 3 # acc x,y,z\n",
    "n_classes = 3 #walking, jogging, sitting"
   ]
  },
  {
   "cell_type": "code",
   "execution_count": 21,
   "metadata": {},
   "outputs": [],
   "source": [
    "segments = [] #acceleration in x,y,z\n",
    "labels = [] #activity type \n",
    "\n",
    "for i in range(0,  df.shape[0]- n_time_steps, step):  \n",
    "\n",
    "    xs = df['x-axis'].values[i: i + 8]\n",
    "    ys = df['y-axis'].values[i: i + 8]\n",
    "    zs = df['z-axis'].values[i: i + 8]\n",
    "    \n",
    "    from scipy import stats\n",
    "    segments.append([xs,ys,zs])\n",
    "    label=stats.mode(df['activity'][i: i + 8])[0][0] #tell the class of activity sitting, walking, running \n",
    "    labels.append(label)\n",
    "\n",
    "# # #reshape the segments which is (list of arrays) to a list\n",
    "reshaped_segments = np.asarray(segments, dtype= np.float32).reshape(-1, n_time_steps, n_features)\n",
    "\n",
    "labels = np.asarray(pd.get_dummies(labels), dtype = np.float32)"
   ]
  },
  {
   "cell_type": "code",
   "execution_count": 22,
   "metadata": {},
   "outputs": [
    {
     "data": {
      "text/plain": [
       "(401216, 8, 3)"
      ]
     },
     "execution_count": 22,
     "metadata": {},
     "output_type": "execute_result"
    }
   ],
   "source": [
    "np.shape(reshaped_segments)"
   ]
  },
  {
   "cell_type": "code",
   "execution_count": 23,
   "metadata": {},
   "outputs": [
    {
     "data": {
      "text/plain": [
       "(401216, 3)"
      ]
     },
     "execution_count": 23,
     "metadata": {},
     "output_type": "execute_result"
    }
   ],
   "source": [
    "np.shape(labels)"
   ]
  },
  {
   "cell_type": "markdown",
   "metadata": {},
   "source": [
    "Splitting data into train and test sets –"
   ]
  },
  {
   "cell_type": "code",
   "execution_count": 24,
   "metadata": {},
   "outputs": [],
   "source": [
    "from sklearn.model_selection import train_test_split\n",
    "X_train, X_test, y_train, y_test = train_test_split(reshaped_segments, labels, test_size = 0.2, random_state = random_seed)"
   ]
  },
  {
   "cell_type": "code",
   "execution_count": 25,
   "metadata": {},
   "outputs": [
    {
     "data": {
      "text/plain": [
       "(8, 3)"
      ]
     },
     "execution_count": 25,
     "metadata": {},
     "output_type": "execute_result"
    }
   ],
   "source": [
    "np.shape(X_train[2])"
   ]
  },
  {
   "cell_type": "code",
   "execution_count": 26,
   "metadata": {},
   "outputs": [
    {
     "data": {
      "text/plain": [
       "array([[ 6.09      ,  7.86      ,  8.92      ],\n",
       "       [ 2.76      , -2.98      , -5.37      ],\n",
       "       [-3.64      , -4.99      , 14.56      ],\n",
       "       [11.41      ,  9.51      , 14.94      ],\n",
       "       [19.57      , 17.67      ,  3.72      ],\n",
       "       [ 0.8       ,  0.10896278, -2.5606253 ],\n",
       "       [-1.7978859 ,  6.851035  , -1.2666923 ],\n",
       "       [-0.95342433,  1.334794  , -0.50395286]], dtype=float32)"
      ]
     },
     "execution_count": 26,
     "metadata": {},
     "output_type": "execute_result"
    }
   ],
   "source": [
    "X_test[0]"
   ]
  },
  {
   "cell_type": "markdown",
   "metadata": {},
   "source": [
    "Building Model Architecture"
   ]
  },
  {
   "cell_type": "code",
   "execution_count": 27,
   "metadata": {},
   "outputs": [],
   "source": [
    "from keras.models import Sequential\n",
    "from keras.layers import LSTM, Dense, Flatten, Dropout"
   ]
  },
  {
   "cell_type": "code",
   "execution_count": 28,
   "metadata": {},
   "outputs": [
    {
     "name": "stdout",
     "output_type": "stream",
     "text": [
      "Metal device set to: Apple M1\n",
      "\n",
      "systemMemory: 8.00 GB\n",
      "maxCacheSize: 2.67 GB\n",
      "\n"
     ]
    },
    {
     "name": "stderr",
     "output_type": "stream",
     "text": [
      "2022-07-30 23:09:43.744061: I tensorflow/core/common_runtime/pluggable_device/pluggable_device_factory.cc:305] Could not identify NUMA node of platform GPU ID 0, defaulting to 0. Your kernel may not have been built with NUMA support.\n",
      "2022-07-30 23:09:43.744510: I tensorflow/core/common_runtime/pluggable_device/pluggable_device_factory.cc:271] Created TensorFlow device (/job:localhost/replica:0/task:0/device:GPU:0 with 0 MB memory) -> physical PluggableDevice (device: 0, name: METAL, pci bus id: <undefined>)\n"
     ]
    }
   ],
   "source": [
    "model = Sequential()\n",
    "# RNN layer\n",
    "model.add(LSTM(units = 128, input_shape = (X_train.shape[1], X_train.shape[2])))\n",
    "# Dropout layer\n",
    "model.add(Dropout(0.5)) \n",
    "# Dense layer with ReLu function\n",
    "model.add(Dense(units = 64, activation='relu'))\n",
    "# Softmax layer for getting probability of each class\n",
    "model.add(Dense(y_train.shape[1], activation = 'softmax')) #normalize the output of a network to a probability distribution over predicted output classes\n",
    "# Compile model\n",
    "model.compile(loss='categorical_crossentropy', optimizer='adam', metrics=['accuracy'])"
   ]
  },
  {
   "cell_type": "code",
   "execution_count": 29,
   "metadata": {},
   "outputs": [
    {
     "name": "stdout",
     "output_type": "stream",
     "text": [
      "Model: \"sequential\"\n",
      "_________________________________________________________________\n",
      " Layer (type)                Output Shape              Param #   \n",
      "=================================================================\n",
      " lstm (LSTM)                 (None, 128)               67584     \n",
      "                                                                 \n",
      " dropout (Dropout)           (None, 128)               0         \n",
      "                                                                 \n",
      " dense (Dense)               (None, 64)                8256      \n",
      "                                                                 \n",
      " dense_1 (Dense)             (None, 3)                 195       \n",
      "                                                                 \n",
      "=================================================================\n",
      "Total params: 76,035\n",
      "Trainable params: 76,035\n",
      "Non-trainable params: 0\n",
      "_________________________________________________________________\n"
     ]
    }
   ],
   "source": [
    "# model.summary()\n",
    "model.summary()"
   ]
  },
  {
   "cell_type": "code",
   "execution_count": 30,
   "metadata": {},
   "outputs": [
    {
     "name": "stdout",
     "output_type": "stream",
     "text": [
      "You must install pydot (`pip install pydot`) and install graphviz (see instructions at https://graphviz.gitlab.io/download/) for plot_model/model_to_dot to work.\n"
     ]
    }
   ],
   "source": [
    "from keras.utils.vis_utils import plot_model\n",
    "from tensorflow.keras.utils import plot_model\n",
    "plot_model(model, to_file='model_plot.png', show_shapes=True, show_layer_names=True)"
   ]
  },
  {
   "cell_type": "code",
   "execution_count": 31,
   "metadata": {},
   "outputs": [
    {
     "name": "stdout",
     "output_type": "stream",
     "text": [
      "You must install pydot (`pip install pydot`) and install graphviz (see instructions at https://graphviz.gitlab.io/download/) for plot_model/model_to_dot to work.\n"
     ]
    }
   ],
   "source": [
    "plot_model(model, to_file='my-model.png')"
   ]
  },
  {
   "cell_type": "code",
   "execution_count": 32,
   "metadata": {},
   "outputs": [],
   "source": [
    "#Model parameters\n",
    "n_epochs = 10\n",
    "batch_size = 1024 #batch size for data feeding into model  \n",
    "learning_rate = 0.0025 #alpa\n",
    "l2_loss = 0.0015 "
   ]
  },
  {
   "cell_type": "code",
   "execution_count": 33,
   "metadata": {},
   "outputs": [
    {
     "name": "stdout",
     "output_type": "stream",
     "text": [
      "Epoch 1/10\n"
     ]
    },
    {
     "name": "stderr",
     "output_type": "stream",
     "text": [
      "2022-07-30 23:09:44.386948: W tensorflow/core/platform/profile_utils/cpu_utils.cc:128] Failed to get CPU frequency: 0 Hz\n",
      "2022-07-30 23:09:45.102898: I tensorflow/core/grappler/optimizers/custom_graph_optimizer_registry.cc:113] Plugin optimizer for device_type GPU is enabled.\n",
      "2022-07-30 23:09:45.286178: I tensorflow/core/grappler/optimizers/custom_graph_optimizer_registry.cc:113] Plugin optimizer for device_type GPU is enabled.\n"
     ]
    },
    {
     "name": "stdout",
     "output_type": "stream",
     "text": [
      "  1/251 [..............................] - ETA: 6:00 - loss: 1.1335 - accuracy: 0.3594"
     ]
    },
    {
     "name": "stderr",
     "output_type": "stream",
     "text": [
      "2022-07-30 23:09:45.672207: I tensorflow/core/grappler/optimizers/custom_graph_optimizer_registry.cc:113] Plugin optimizer for device_type GPU is enabled.\n"
     ]
    },
    {
     "name": "stdout",
     "output_type": "stream",
     "text": [
      "251/251 [==============================] - ETA: 0s - loss: 0.2881 - accuracy: 0.8853"
     ]
    },
    {
     "name": "stderr",
     "output_type": "stream",
     "text": [
      "2022-07-30 23:09:51.143544: I tensorflow/core/grappler/optimizers/custom_graph_optimizer_registry.cc:113] Plugin optimizer for device_type GPU is enabled.\n",
      "2022-07-30 23:09:51.209648: I tensorflow/core/grappler/optimizers/custom_graph_optimizer_registry.cc:113] Plugin optimizer for device_type GPU is enabled.\n"
     ]
    },
    {
     "name": "stdout",
     "output_type": "stream",
     "text": [
      "251/251 [==============================] - 8s 24ms/step - loss: 0.2881 - accuracy: 0.8853 - val_loss: 0.1341 - val_accuracy: 0.9543\n",
      "Epoch 2/10\n",
      "251/251 [==============================] - 5s 21ms/step - loss: 0.1223 - accuracy: 0.9596 - val_loss: 0.0899 - val_accuracy: 0.9721\n",
      "Epoch 3/10\n",
      "251/251 [==============================] - 6s 22ms/step - loss: 0.0910 - accuracy: 0.9721 - val_loss: 0.0732 - val_accuracy: 0.9788\n",
      "Epoch 4/10\n",
      "251/251 [==============================] - 5s 22ms/step - loss: 0.0775 - accuracy: 0.9774 - val_loss: 0.0641 - val_accuracy: 0.9813\n",
      "Epoch 5/10\n",
      "251/251 [==============================] - 5s 22ms/step - loss: 0.0675 - accuracy: 0.9807 - val_loss: 0.0638 - val_accuracy: 0.9812\n",
      "Epoch 6/10\n",
      "251/251 [==============================] - 6s 22ms/step - loss: 0.0618 - accuracy: 0.9825 - val_loss: 0.0594 - val_accuracy: 0.9825\n",
      "Epoch 7/10\n",
      "251/251 [==============================] - 6s 22ms/step - loss: 0.0581 - accuracy: 0.9837 - val_loss: 0.0532 - val_accuracy: 0.9845\n",
      "Epoch 8/10\n",
      "251/251 [==============================] - 5s 22ms/step - loss: 0.0544 - accuracy: 0.9848 - val_loss: 0.0505 - val_accuracy: 0.9852\n",
      "Epoch 9/10\n",
      "251/251 [==============================] - 5s 21ms/step - loss: 0.0496 - accuracy: 0.9862 - val_loss: 0.0474 - val_accuracy: 0.9865\n",
      "Epoch 10/10\n",
      "251/251 [==============================] - 5s 21ms/step - loss: 0.0466 - accuracy: 0.9871 - val_loss: 0.0454 - val_accuracy: 0.9866\n"
     ]
    }
   ],
   "source": [
    "# Model Training & Evaluation!\n",
    "history = model.fit(X_train, y_train, epochs = n_epochs, validation_split = 0.20, batch_size = batch_size, verbose = 1)"
   ]
  },
  {
   "cell_type": "code",
   "execution_count": 34,
   "metadata": {},
   "outputs": [
    {
     "data": {
      "image/png": "[encoded data removed]",
      "text/plain": [
       "<Figure size 432x288 with 1 Axes>"
      ]
     },
     "metadata": {
      "needs_background": "light"
     },
     "output_type": "display_data"
    }
   ],
   "source": [
    "# Plotting training and validation accuracy and cross-entropy loss against a number of epochs –\n",
    "plt.plot(np.array(history.history['loss']), \"r--\", label = \"Train loss\")\n",
    "plt.plot(np.array(history.history['accuracy']), \"g--\", label = \"Train accuracy\")\n",
    "plt.plot(np.array(history.history['val_loss']), \"r-\", label = \"Validation loss\")\n",
    "plt.plot(np.array(history.history['val_accuracy']), \"g-\", label = \"Validation accuracy\")\n",
    "plt.title(\"Training session's progress over iterations\")\n",
    "plt.legend(loc='lower left')\n",
    "plt.ylabel('Training Progress (Loss/Accuracy)')\n",
    "plt.xlabel('Training Epoch')\n",
    "plt.ylim(0) \n",
    "plt.show()"
   ]
  },
  {
   "cell_type": "code",
   "execution_count": 35,
   "metadata": {},
   "outputs": [
    {
     "name": "stdout",
     "output_type": "stream",
     "text": [
      "79/79 [==============================] - 1s 13ms/step - loss: 0.0484 - accuracy: 0.9862\n",
      "Test Accuracy : 0.9862419962882996\n",
      "Test Loss : 0.04843896999955177\n"
     ]
    }
   ],
   "source": [
    "# performance of the trained model on the test dataset –\n",
    "loss, accuracy = model.evaluate(X_test, y_test, batch_size = batch_size, verbose = 1)\n",
    "print(\"Test Accuracy :\", accuracy)\n",
    "print(\"Test Loss :\", loss)"
   ]
  },
  {
   "cell_type": "code",
   "execution_count": 36,
   "metadata": {},
   "outputs": [
    {
     "name": "stdout",
     "output_type": "stream",
     "text": [
      "  16/2508 [..............................] - ETA: 8s   "
     ]
    },
    {
     "name": "stderr",
     "output_type": "stream",
     "text": [
      "2022-07-30 23:10:42.292534: I tensorflow/core/grappler/optimizers/custom_graph_optimizer_registry.cc:113] Plugin optimizer for device_type GPU is enabled.\n",
      "2022-07-30 23:10:42.352098: I tensorflow/core/grappler/optimizers/custom_graph_optimizer_registry.cc:113] Plugin optimizer for device_type GPU is enabled.\n"
     ]
    },
    {
     "name": "stdout",
     "output_type": "stream",
     "text": [
      "2508/2508 [==============================] - 8s 3ms/step\n"
     ]
    },
    {
     "data": {
      "image/png": "[encoded data removed]",
      "text/plain": [
       "<Figure size 432x288 with 2 Axes>"
      ]
     },
     "metadata": {
      "needs_background": "light"
     },
     "output_type": "display_data"
    }
   ],
   "source": [
    "# Confusion matrix\n",
    "predictions = model.predict(X_test)  #prediction from test data in form of probability\n",
    "class_labels = ['Jogging', 'Sitting', 'Walking']\n",
    "max_test = np.argmax(y_test, axis=1) # np.argmax -->Returns the indices of the maximum values along an axis.\n",
    "max_predictions = np.argmax(predictions, axis=1) # np.argmax -->Returns the indices of the maximum values along an axis.\n",
    "from sklearn.metrics import classification_report,confusion_matrix\n",
    "confs_mat = confusion_matrix(max_test, max_predictions)\n",
    "\n",
    "sns.heatmap(confs_mat, xticklabels = class_labels, yticklabels = class_labels, annot = True, linewidths = 0.1, fmt='d', cmap = 'YlGnBu')\n",
    "plt.title(\"Confusion matrix\", fontsize = 15)\n",
    "plt.ylabel('True label')\n",
    "plt.xlabel('Predicted label')\n",
    "plt.show()"
   ]
  },
  {
   "cell_type": "code",
   "execution_count": 37,
   "metadata": {},
   "outputs": [
    {
     "data": {
      "text/plain": [
       "array([2, 0, 0, ..., 2, 2, 0])"
      ]
     },
     "execution_count": 37,
     "metadata": {},
     "output_type": "execute_result"
    }
   ],
   "source": [
    "max_predictions"
   ]
  },
  {
   "cell_type": "code",
   "execution_count": 38,
   "metadata": {},
   "outputs": [],
   "source": [
    "predict_class=[]\n",
    "for i in range(0,max_predictions.shape[0],1):\n",
    "    if max_predictions[i]==0:\n",
    "        temp='Jogging'\n",
    "    if max_predictions[i]==1:\n",
    "        temp='Sitting'\n",
    "    if max_predictions[i]==2:\n",
    "        temp='Walking'\n",
    "    predict_class.append([temp])"
   ]
  },
  {
   "cell_type": "code",
   "execution_count": 39,
   "metadata": {},
   "outputs": [
    {
     "data": {
      "text/plain": [
       "list"
      ]
     },
     "execution_count": 39,
     "metadata": {},
     "output_type": "execute_result"
    }
   ],
   "source": [
    "type(predict_class)"
   ]
  },
  {
   "cell_type": "code",
   "execution_count": 40,
   "metadata": {},
   "outputs": [
    {
     "data": {
      "text/plain": [
       "[['Walking'],\n",
       " ['Jogging'],\n",
       " ['Jogging'],\n",
       " ['Walking'],\n",
       " ['Jogging'],\n",
       " ['Sitting'],\n",
       " ['Walking'],\n",
       " ['Walking'],\n",
       " ['Jogging'],\n",
       " ['Jogging'],\n",
       " ['Jogging'],\n",
       " ['Walking'],\n",
       " ['Jogging'],\n",
       " ['Walking'],\n",
       " ['Jogging'],\n",
       " ['Jogging'],\n",
       " ['Jogging'],\n",
       " ['Jogging'],\n",
       " ['Jogging'],\n",
       " ['Jogging'],\n",
       " ['Walking'],\n",
       " ['Jogging'],\n",
       " ['Walking'],\n",
       " ['Walking'],\n",
       " ['Walking'],\n",
       " ['Jogging'],\n",
       " ['Jogging'],\n",
       " ['Sitting'],\n",
       " ['Jogging'],\n",
       " ['Jogging'],\n",
       " ['Walking'],\n",
       " ['Walking'],\n",
       " ['Jogging'],\n",
       " ['Sitting'],\n",
       " ['Walking'],\n",
       " ['Jogging'],\n",
       " ['Walking'],\n",
       " ['Walking'],\n",
       " ['Walking'],\n",
       " ['Jogging'],\n",
       " ['Walking'],\n",
       " ['Walking'],\n",
       " ['Walking'],\n",
       " ['Walking'],\n",
       " ['Walking'],\n",
       " ['Walking'],\n",
       " ['Walking'],\n",
       " ['Jogging'],\n",
       " ['Walking'],\n",
       " ['Jogging'],\n",
       " ['Walking'],\n",
       " ['Jogging'],\n",
       " ['Jogging'],\n",
       " ['Sitting'],\n",
       " ['Walking'],\n",
       " ['Sitting'],\n",
       " ['Walking'],\n",
       " ['Walking'],\n",
       " ['Jogging'],\n",
       " ['Walking'],\n",
       " ['Walking'],\n",
       " ['Jogging'],\n",
       " ['Jogging'],\n",
       " ['Walking'],\n",
       " ['Sitting'],\n",
       " ['Walking'],\n",
       " ['Jogging'],\n",
       " ['Walking'],\n",
       " ['Jogging'],\n",
       " ['Walking'],\n",
       " ['Jogging'],\n",
       " ['Sitting'],\n",
       " ['Walking'],\n",
       " ['Jogging'],\n",
       " ['Walking'],\n",
       " ['Jogging'],\n",
       " ['Jogging'],\n",
       " ['Walking'],\n",
       " ['Sitting'],\n",
       " ['Jogging'],\n",
       " ['Jogging'],\n",
       " ['Walking'],\n",
       " ['Walking'],\n",
       " ['Walking'],\n",
       " ['Jogging'],\n",
       " ['Walking'],\n",
       " ['Sitting'],\n",
       " ['Walking'],\n",
       " ['Walking'],\n",
       " ['Walking'],\n",
       " ['Jogging'],\n",
       " ['Jogging'],\n",
       " ['Walking'],\n",
       " ['Walking'],\n",
       " ['Walking'],\n",
       " ['Walking'],\n",
       " ['Walking'],\n",
       " ['Jogging'],\n",
       " ['Walking'],\n",
       " ['Walking'],\n",
       " ['Walking'],\n",
       " ['Jogging'],\n",
       " ['Jogging'],\n",
       " ['Walking'],\n",
       " ['Walking'],\n",
       " ['Walking'],\n",
       " ['Walking'],\n",
       " ['Jogging'],\n",
       " ['Jogging'],\n",
       " ['Walking'],\n",
       " ['Walking'],\n",
       " ['Jogging'],\n",
       " ['Walking'],\n",
       " ['Walking'],\n",
       " ['Walking'],\n",
       " ['Walking'],\n",
       " ['Jogging'],\n",
       " ['Walking'],\n",
       " ['Walking'],\n",
       " ['Jogging'],\n",
       " ['Walking'],\n",
       " ['Walking'],\n",
       " ['Jogging'],\n",
       " ['Walking'],\n",
       " ['Walking'],\n",
       " ['Walking'],\n",
       " ['Walking'],\n",
       " ['Jogging'],\n",
       " ['Walking'],\n",
       " ['Jogging'],\n",
       " ['Jogging'],\n",
       " ['Walking'],\n",
       " ['Walking'],\n",
       " ['Walking'],\n",
       " ['Jogging'],\n",
       " ['Walking'],\n",
       " ['Sitting'],\n",
       " ['Walking'],\n",
       " ['Walking'],\n",
       " ['Walking'],\n",
       " ['Jogging'],\n",
       " ['Walking'],\n",
       " ['Jogging'],\n",
       " ['Walking'],\n",
       " ['Jogging'],\n",
       " ['Walking'],\n",
       " ['Walking'],\n",
       " ['Jogging'],\n",
       " ['Walking'],\n",
       " ['Sitting'],\n",
       " ['Walking'],\n",
       " ['Jogging'],\n",
       " ['Walking'],\n",
       " ['Sitting'],\n",
       " ['Jogging'],\n",
       " ['Jogging'],\n",
       " ['Sitting'],\n",
       " ['Jogging'],\n",
       " ['Walking'],\n",
       " ['Jogging'],\n",
       " ['Jogging'],\n",
       " ['Walking'],\n",
       " ['Walking'],\n",
       " ['Walking'],\n",
       " ['Jogging'],\n",
       " ['Jogging'],\n",
       " ['Walking'],\n",
       " ['Walking'],\n",
       " ['Walking'],\n",
       " ['Sitting'],\n",
       " ['Walking'],\n",
       " ['Walking'],\n",
       " ['Jogging'],\n",
       " ['Walking'],\n",
       " ['Walking'],\n",
       " ['Jogging'],\n",
       " ['Walking'],\n",
       " ['Walking'],\n",
       " ['Jogging'],\n",
       " ['Walking'],\n",
       " ['Jogging'],\n",
       " ['Jogging'],\n",
       " ['Sitting'],\n",
       " ['Jogging'],\n",
       " ['Walking'],\n",
       " ['Walking'],\n",
       " ['Jogging'],\n",
       " ['Jogging'],\n",
       " ['Jogging'],\n",
       " ['Sitting'],\n",
       " ['Jogging'],\n",
       " ['Jogging'],\n",
       " ['Jogging'],\n",
       " ['Walking'],\n",
       " ['Sitting'],\n",
       " ['Jogging'],\n",
       " ['Jogging'],\n",
       " ['Walking'],\n",
       " ['Sitting'],\n",
       " ['Walking'],\n",
       " ['Jogging'],\n",
       " ['Walking'],\n",
       " ['Walking'],\n",
       " ['Walking'],\n",
       " ['Sitting'],\n",
       " ['Walking'],\n",
       " ['Walking'],\n",
       " ['Jogging'],\n",
       " ['Walking'],\n",
       " ['Walking'],\n",
       " ['Walking'],\n",
       " ['Jogging'],\n",
       " ['Jogging'],\n",
       " ['Jogging'],\n",
       " ['Jogging'],\n",
       " ['Walking'],\n",
       " ['Jogging'],\n",
       " ['Walking'],\n",
       " ['Walking'],\n",
       " ['Walking'],\n",
       " ['Jogging'],\n",
       " ['Walking'],\n",
       " ['Jogging'],\n",
       " ['Walking'],\n",
       " ['Jogging'],\n",
       " ['Walking'],\n",
       " ['Walking'],\n",
       " ['Walking'],\n",
       " ['Walking'],\n",
       " ['Jogging'],\n",
       " ['Walking'],\n",
       " ['Jogging'],\n",
       " ['Jogging'],\n",
       " ['Walking'],\n",
       " ['Jogging'],\n",
       " ['Sitting'],\n",
       " ['Walking'],\n",
       " ['Jogging'],\n",
       " ['Walking'],\n",
       " ['Sitting'],\n",
       " ['Jogging'],\n",
       " ['Walking'],\n",
       " ['Jogging'],\n",
       " ['Walking'],\n",
       " ['Jogging'],\n",
       " ['Walking'],\n",
       " ['Walking'],\n",
       " ['Sitting'],\n",
       " ['Jogging'],\n",
       " ['Walking'],\n",
       " ['Walking'],\n",
       " ['Jogging'],\n",
       " ['Jogging'],\n",
       " ['Jogging'],\n",
       " ['Jogging'],\n",
       " ['Walking'],\n",
       " ['Jogging'],\n",
       " ['Walking'],\n",
       " ['Walking'],\n",
       " ['Sitting'],\n",
       " ['Jogging'],\n",
       " ['Jogging'],\n",
       " ['Sitting'],\n",
       " ['Walking'],\n",
       " ['Sitting'],\n",
       " ['Walking'],\n",
       " ['Walking'],\n",
       " ['Walking'],\n",
       " ['Sitting'],\n",
       " ['Walking'],\n",
       " ['Jogging'],\n",
       " ['Walking'],\n",
       " ['Walking'],\n",
       " ['Jogging'],\n",
       " ['Jogging'],\n",
       " ['Jogging'],\n",
       " ['Jogging'],\n",
       " ['Walking'],\n",
       " ['Walking'],\n",
       " ['Walking'],\n",
       " ['Walking'],\n",
       " ['Walking'],\n",
       " ['Jogging'],\n",
       " ['Walking'],\n",
       " ['Jogging'],\n",
       " ['Walking'],\n",
       " ['Jogging'],\n",
       " ['Walking'],\n",
       " ['Sitting'],\n",
       " ['Walking'],\n",
       " ['Walking'],\n",
       " ['Walking'],\n",
       " ['Jogging'],\n",
       " ['Sitting'],\n",
       " ['Walking'],\n",
       " ['Sitting'],\n",
       " ['Walking'],\n",
       " ['Jogging'],\n",
       " ['Walking'],\n",
       " ['Sitting'],\n",
       " ['Walking'],\n",
       " ['Jogging'],\n",
       " ['Jogging'],\n",
       " ['Walking'],\n",
       " ['Jogging'],\n",
       " ['Jogging'],\n",
       " ['Jogging'],\n",
       " ['Walking'],\n",
       " ['Walking'],\n",
       " ['Walking'],\n",
       " ['Walking'],\n",
       " ['Jogging'],\n",
       " ['Jogging'],\n",
       " ['Jogging'],\n",
       " ['Jogging'],\n",
       " ['Walking'],\n",
       " ['Jogging'],\n",
       " ['Sitting'],\n",
       " ['Jogging'],\n",
       " ['Jogging'],\n",
       " ['Sitting'],\n",
       " ['Jogging'],\n",
       " ['Walking'],\n",
       " ['Walking'],\n",
       " ['Walking'],\n",
       " ['Walking'],\n",
       " ['Walking'],\n",
       " ['Walking'],\n",
       " ['Walking'],\n",
       " ['Walking'],\n",
       " ['Walking'],\n",
       " ['Walking'],\n",
       " ['Jogging'],\n",
       " ['Walking'],\n",
       " ['Walking'],\n",
       " ['Walking'],\n",
       " ['Walking'],\n",
       " ['Walking'],\n",
       " ['Jogging'],\n",
       " ['Walking'],\n",
       " ['Walking'],\n",
       " ['Walking'],\n",
       " ['Jogging'],\n",
       " ['Walking'],\n",
       " ['Jogging'],\n",
       " ['Jogging'],\n",
       " ['Jogging'],\n",
       " ['Jogging'],\n",
       " ['Jogging'],\n",
       " ['Walking'],\n",
       " ['Jogging'],\n",
       " ['Walking'],\n",
       " ['Jogging'],\n",
       " ['Walking'],\n",
       " ['Walking'],\n",
       " ['Walking'],\n",
       " ['Sitting'],\n",
       " ['Jogging'],\n",
       " ['Walking'],\n",
       " ['Jogging'],\n",
       " ['Walking'],\n",
       " ['Walking'],\n",
       " ['Jogging'],\n",
       " ['Jogging'],\n",
       " ['Walking'],\n",
       " ['Jogging'],\n",
       " ['Jogging'],\n",
       " ['Walking'],\n",
       " ['Walking'],\n",
       " ['Jogging'],\n",
       " ['Jogging'],\n",
       " ['Jogging'],\n",
       " ['Jogging'],\n",
       " ['Walking'],\n",
       " ['Walking'],\n",
       " ['Jogging'],\n",
       " ['Walking'],\n",
       " ['Walking'],\n",
       " ['Walking'],\n",
       " ['Walking'],\n",
       " ['Walking'],\n",
       " ['Walking'],\n",
       " ['Jogging'],\n",
       " ['Jogging'],\n",
       " ['Walking'],\n",
       " ['Walking'],\n",
       " ['Walking'],\n",
       " ['Jogging'],\n",
       " ['Jogging'],\n",
       " ['Walking'],\n",
       " ['Walking'],\n",
       " ['Walking'],\n",
       " ['Walking'],\n",
       " ['Jogging'],\n",
       " ['Walking'],\n",
       " ['Walking'],\n",
       " ['Walking'],\n",
       " ['Jogging'],\n",
       " ['Walking'],\n",
       " ['Walking'],\n",
       " ['Walking'],\n",
       " ['Jogging'],\n",
       " ['Jogging'],\n",
       " ['Jogging'],\n",
       " ['Jogging'],\n",
       " ['Walking'],\n",
       " ['Walking'],\n",
       " ['Walking'],\n",
       " ['Jogging'],\n",
       " ['Walking'],\n",
       " ['Walking'],\n",
       " ['Walking'],\n",
       " ['Walking'],\n",
       " ['Jogging'],\n",
       " ['Walking'],\n",
       " ['Walking'],\n",
       " ['Walking'],\n",
       " ['Walking'],\n",
       " ['Jogging'],\n",
       " ['Walking'],\n",
       " ['Walking'],\n",
       " ['Walking'],\n",
       " ['Walking'],\n",
       " ['Jogging'],\n",
       " ['Walking'],\n",
       " ['Jogging'],\n",
       " ['Walking'],\n",
       " ['Jogging'],\n",
       " ['Walking'],\n",
       " ['Sitting'],\n",
       " ['Walking'],\n",
       " ['Walking'],\n",
       " ['Walking'],\n",
       " ['Walking'],\n",
       " ['Jogging'],\n",
       " ['Jogging'],\n",
       " ['Walking'],\n",
       " ['Walking'],\n",
       " ['Walking'],\n",
       " ['Jogging'],\n",
       " ['Walking'],\n",
       " ['Walking'],\n",
       " ['Jogging'],\n",
       " ['Walking'],\n",
       " ['Walking'],\n",
       " ['Sitting'],\n",
       " ['Jogging'],\n",
       " ['Jogging'],\n",
       " ['Walking'],\n",
       " ['Walking'],\n",
       " ['Walking'],\n",
       " ['Jogging'],\n",
       " ['Walking'],\n",
       " ['Jogging'],\n",
       " ['Walking'],\n",
       " ['Walking'],\n",
       " ['Jogging'],\n",
       " ['Walking'],\n",
       " ['Jogging'],\n",
       " ['Walking'],\n",
       " ['Jogging'],\n",
       " ['Walking'],\n",
       " ['Walking'],\n",
       " ['Walking'],\n",
       " ['Sitting'],\n",
       " ['Jogging'],\n",
       " ['Jogging'],\n",
       " ['Walking'],\n",
       " ['Sitting'],\n",
       " ['Jogging'],\n",
       " ['Walking'],\n",
       " ['Jogging'],\n",
       " ['Walking'],\n",
       " ['Sitting'],\n",
       " ['Jogging'],\n",
       " ['Jogging'],\n",
       " ['Walking'],\n",
       " ['Jogging'],\n",
       " ['Walking'],\n",
       " ['Sitting'],\n",
       " ['Jogging'],\n",
       " ['Jogging'],\n",
       " ['Jogging'],\n",
       " ['Jogging'],\n",
       " ['Sitting'],\n",
       " ['Walking'],\n",
       " ['Jogging'],\n",
       " ['Jogging'],\n",
       " ['Jogging'],\n",
       " ['Jogging'],\n",
       " ['Walking'],\n",
       " ['Walking'],\n",
       " ['Jogging'],\n",
       " ['Jogging'],\n",
       " ['Jogging'],\n",
       " ['Walking'],\n",
       " ['Jogging'],\n",
       " ['Walking'],\n",
       " ['Jogging'],\n",
       " ['Walking'],\n",
       " ['Jogging'],\n",
       " ['Walking'],\n",
       " ['Walking'],\n",
       " ['Jogging'],\n",
       " ['Sitting'],\n",
       " ['Jogging'],\n",
       " ['Walking'],\n",
       " ['Walking'],\n",
       " ['Walking'],\n",
       " ['Walking'],\n",
       " ['Walking'],\n",
       " ['Jogging'],\n",
       " ['Walking'],\n",
       " ['Jogging'],\n",
       " ['Jogging'],\n",
       " ['Walking'],\n",
       " ['Jogging'],\n",
       " ['Walking'],\n",
       " ['Walking'],\n",
       " ['Jogging'],\n",
       " ['Walking'],\n",
       " ['Walking'],\n",
       " ['Walking'],\n",
       " ['Jogging'],\n",
       " ['Walking'],\n",
       " ['Sitting'],\n",
       " ['Sitting'],\n",
       " ['Jogging'],\n",
       " ['Jogging'],\n",
       " ['Walking'],\n",
       " ['Walking'],\n",
       " ['Jogging'],\n",
       " ['Jogging'],\n",
       " ['Walking'],\n",
       " ['Jogging'],\n",
       " ['Walking'],\n",
       " ['Walking'],\n",
       " ['Walking'],\n",
       " ['Walking'],\n",
       " ['Walking'],\n",
       " ['Jogging'],\n",
       " ['Jogging'],\n",
       " ['Sitting'],\n",
       " ['Walking'],\n",
       " ['Walking'],\n",
       " ['Jogging'],\n",
       " ['Jogging'],\n",
       " ['Jogging'],\n",
       " ['Jogging'],\n",
       " ['Jogging'],\n",
       " ['Walking'],\n",
       " ['Jogging'],\n",
       " ['Sitting'],\n",
       " ['Jogging'],\n",
       " ['Jogging'],\n",
       " ['Jogging'],\n",
       " ['Walking'],\n",
       " ['Walking'],\n",
       " ['Sitting'],\n",
       " ['Walking'],\n",
       " ['Jogging'],\n",
       " ['Jogging'],\n",
       " ['Jogging'],\n",
       " ['Jogging'],\n",
       " ['Walking'],\n",
       " ['Walking'],\n",
       " ['Jogging'],\n",
       " ['Walking'],\n",
       " ['Jogging'],\n",
       " ['Walking'],\n",
       " ['Jogging'],\n",
       " ['Walking'],\n",
       " ['Walking'],\n",
       " ['Jogging'],\n",
       " ['Jogging'],\n",
       " ['Jogging'],\n",
       " ['Jogging'],\n",
       " ['Walking'],\n",
       " ['Walking'],\n",
       " ['Jogging'],\n",
       " ['Walking'],\n",
       " ['Jogging'],\n",
       " ['Walking'],\n",
       " ['Walking'],\n",
       " ['Jogging'],\n",
       " ['Jogging'],\n",
       " ['Jogging'],\n",
       " ['Walking'],\n",
       " ['Walking'],\n",
       " ['Walking'],\n",
       " ['Jogging'],\n",
       " ['Jogging'],\n",
       " ['Jogging'],\n",
       " ['Walking'],\n",
       " ['Walking'],\n",
       " ['Sitting'],\n",
       " ['Walking'],\n",
       " ['Walking'],\n",
       " ['Jogging'],\n",
       " ['Walking'],\n",
       " ['Jogging'],\n",
       " ['Jogging'],\n",
       " ['Jogging'],\n",
       " ['Walking'],\n",
       " ['Jogging'],\n",
       " ['Walking'],\n",
       " ['Jogging'],\n",
       " ['Walking'],\n",
       " ['Walking'],\n",
       " ['Walking'],\n",
       " ['Walking'],\n",
       " ['Jogging'],\n",
       " ['Walking'],\n",
       " ['Sitting'],\n",
       " ['Walking'],\n",
       " ['Jogging'],\n",
       " ['Walking'],\n",
       " ['Walking'],\n",
       " ['Jogging'],\n",
       " ['Jogging'],\n",
       " ['Jogging'],\n",
       " ['Jogging'],\n",
       " ['Walking'],\n",
       " ['Walking'],\n",
       " ['Walking'],\n",
       " ['Jogging'],\n",
       " ['Sitting'],\n",
       " ['Walking'],\n",
       " ['Jogging'],\n",
       " ['Walking'],\n",
       " ['Jogging'],\n",
       " ['Jogging'],\n",
       " ['Walking'],\n",
       " ['Jogging'],\n",
       " ['Walking'],\n",
       " ['Jogging'],\n",
       " ['Walking'],\n",
       " ['Walking'],\n",
       " ['Jogging'],\n",
       " ['Walking'],\n",
       " ['Walking'],\n",
       " ['Jogging'],\n",
       " ['Walking'],\n",
       " ['Walking'],\n",
       " ['Walking'],\n",
       " ['Jogging'],\n",
       " ['Walking'],\n",
       " ['Walking'],\n",
       " ['Walking'],\n",
       " ['Jogging'],\n",
       " ['Walking'],\n",
       " ['Jogging'],\n",
       " ['Walking'],\n",
       " ['Jogging'],\n",
       " ['Jogging'],\n",
       " ['Walking'],\n",
       " ['Walking'],\n",
       " ['Sitting'],\n",
       " ['Walking'],\n",
       " ['Walking'],\n",
       " ['Walking'],\n",
       " ['Sitting'],\n",
       " ['Jogging'],\n",
       " ['Jogging'],\n",
       " ['Jogging'],\n",
       " ['Sitting'],\n",
       " ['Jogging'],\n",
       " ['Jogging'],\n",
       " ['Walking'],\n",
       " ['Walking'],\n",
       " ['Walking'],\n",
       " ['Jogging'],\n",
       " ['Walking'],\n",
       " ['Sitting'],\n",
       " ['Jogging'],\n",
       " ['Jogging'],\n",
       " ['Walking'],\n",
       " ['Sitting'],\n",
       " ['Sitting'],\n",
       " ['Walking'],\n",
       " ['Walking'],\n",
       " ['Walking'],\n",
       " ['Jogging'],\n",
       " ['Walking'],\n",
       " ['Walking'],\n",
       " ['Jogging'],\n",
       " ['Jogging'],\n",
       " ['Jogging'],\n",
       " ['Walking'],\n",
       " ['Walking'],\n",
       " ['Jogging'],\n",
       " ['Walking'],\n",
       " ['Jogging'],\n",
       " ['Jogging'],\n",
       " ['Walking'],\n",
       " ['Walking'],\n",
       " ['Sitting'],\n",
       " ['Walking'],\n",
       " ['Walking'],\n",
       " ['Jogging'],\n",
       " ['Jogging'],\n",
       " ['Jogging'],\n",
       " ['Walking'],\n",
       " ['Walking'],\n",
       " ['Walking'],\n",
       " ['Walking'],\n",
       " ['Jogging'],\n",
       " ['Jogging'],\n",
       " ['Jogging'],\n",
       " ['Walking'],\n",
       " ['Jogging'],\n",
       " ['Walking'],\n",
       " ['Jogging'],\n",
       " ['Walking'],\n",
       " ['Sitting'],\n",
       " ['Jogging'],\n",
       " ['Walking'],\n",
       " ['Walking'],\n",
       " ['Walking'],\n",
       " ['Walking'],\n",
       " ['Jogging'],\n",
       " ['Walking'],\n",
       " ['Sitting'],\n",
       " ['Walking'],\n",
       " ['Walking'],\n",
       " ['Jogging'],\n",
       " ['Jogging'],\n",
       " ['Sitting'],\n",
       " ['Walking'],\n",
       " ['Walking'],\n",
       " ['Jogging'],\n",
       " ['Sitting'],\n",
       " ['Walking'],\n",
       " ['Walking'],\n",
       " ['Walking'],\n",
       " ['Walking'],\n",
       " ['Jogging'],\n",
       " ['Walking'],\n",
       " ['Walking'],\n",
       " ['Sitting'],\n",
       " ['Jogging'],\n",
       " ['Jogging'],\n",
       " ['Sitting'],\n",
       " ['Jogging'],\n",
       " ['Walking'],\n",
       " ['Sitting'],\n",
       " ['Walking'],\n",
       " ['Walking'],\n",
       " ['Walking'],\n",
       " ['Walking'],\n",
       " ['Walking'],\n",
       " ['Walking'],\n",
       " ['Jogging'],\n",
       " ['Walking'],\n",
       " ['Jogging'],\n",
       " ['Walking'],\n",
       " ['Jogging'],\n",
       " ['Walking'],\n",
       " ['Jogging'],\n",
       " ['Jogging'],\n",
       " ['Walking'],\n",
       " ['Jogging'],\n",
       " ['Jogging'],\n",
       " ['Jogging'],\n",
       " ['Walking'],\n",
       " ['Walking'],\n",
       " ['Sitting'],\n",
       " ['Walking'],\n",
       " ['Walking'],\n",
       " ['Walking'],\n",
       " ['Jogging'],\n",
       " ['Walking'],\n",
       " ['Walking'],\n",
       " ['Walking'],\n",
       " ['Jogging'],\n",
       " ['Walking'],\n",
       " ['Jogging'],\n",
       " ['Jogging'],\n",
       " ['Jogging'],\n",
       " ['Sitting'],\n",
       " ['Jogging'],\n",
       " ['Jogging'],\n",
       " ['Jogging'],\n",
       " ['Jogging'],\n",
       " ['Walking'],\n",
       " ['Jogging'],\n",
       " ['Jogging'],\n",
       " ['Walking'],\n",
       " ['Walking'],\n",
       " ['Walking'],\n",
       " ['Walking'],\n",
       " ['Jogging'],\n",
       " ['Sitting'],\n",
       " ['Walking'],\n",
       " ['Walking'],\n",
       " ['Walking'],\n",
       " ['Jogging'],\n",
       " ['Jogging'],\n",
       " ['Jogging'],\n",
       " ['Walking'],\n",
       " ['Walking'],\n",
       " ['Walking'],\n",
       " ['Jogging'],\n",
       " ['Walking'],\n",
       " ['Walking'],\n",
       " ['Jogging'],\n",
       " ['Jogging'],\n",
       " ['Jogging'],\n",
       " ['Jogging'],\n",
       " ['Walking'],\n",
       " ['Jogging'],\n",
       " ['Walking'],\n",
       " ['Walking'],\n",
       " ['Jogging'],\n",
       " ['Walking'],\n",
       " ['Walking'],\n",
       " ['Walking'],\n",
       " ['Walking'],\n",
       " ['Walking'],\n",
       " ['Walking'],\n",
       " ['Jogging'],\n",
       " ['Walking'],\n",
       " ['Walking'],\n",
       " ['Sitting'],\n",
       " ['Jogging'],\n",
       " ['Walking'],\n",
       " ['Jogging'],\n",
       " ['Jogging'],\n",
       " ['Jogging'],\n",
       " ['Walking'],\n",
       " ['Sitting'],\n",
       " ['Walking'],\n",
       " ['Walking'],\n",
       " ['Jogging'],\n",
       " ['Walking'],\n",
       " ['Walking'],\n",
       " ['Walking'],\n",
       " ['Jogging'],\n",
       " ['Jogging'],\n",
       " ['Walking'],\n",
       " ['Walking'],\n",
       " ['Walking'],\n",
       " ['Jogging'],\n",
       " ['Walking'],\n",
       " ['Jogging'],\n",
       " ['Jogging'],\n",
       " ['Walking'],\n",
       " ['Jogging'],\n",
       " ['Walking'],\n",
       " ['Walking'],\n",
       " ['Jogging'],\n",
       " ['Walking'],\n",
       " ['Walking'],\n",
       " ['Jogging'],\n",
       " ['Jogging'],\n",
       " ['Walking'],\n",
       " ['Jogging'],\n",
       " ['Jogging'],\n",
       " ['Jogging'],\n",
       " ['Jogging'],\n",
       " ['Jogging'],\n",
       " ['Walking'],\n",
       " ['Walking'],\n",
       " ['Walking'],\n",
       " ['Jogging'],\n",
       " ['Walking'],\n",
       " ['Walking'],\n",
       " ['Jogging'],\n",
       " ['Jogging'],\n",
       " ['Sitting'],\n",
       " ['Jogging'],\n",
       " ['Jogging'],\n",
       " ['Walking'],\n",
       " ['Jogging'],\n",
       " ['Walking'],\n",
       " ['Walking'],\n",
       " ['Sitting'],\n",
       " ['Jogging'],\n",
       " ['Walking'],\n",
       " ['Walking'],\n",
       " ['Jogging'],\n",
       " ['Walking'],\n",
       " ['Jogging'],\n",
       " ['Jogging'],\n",
       " ['Walking'],\n",
       " ['Jogging'],\n",
       " ['Walking'],\n",
       " ['Walking'],\n",
       " ['Jogging'],\n",
       " ['Jogging'],\n",
       " ['Jogging'],\n",
       " ['Walking'],\n",
       " ['Walking'],\n",
       " ['Walking'],\n",
       " ['Walking'],\n",
       " ['Jogging'],\n",
       " ['Walking'],\n",
       " ['Sitting'],\n",
       " ['Jogging'],\n",
       " ['Walking'],\n",
       " ['Walking'],\n",
       " ['Jogging'],\n",
       " ['Walking'],\n",
       " ['Walking'],\n",
       " ['Walking'],\n",
       " ['Walking'],\n",
       " ['Walking'],\n",
       " ['Walking'],\n",
       " ['Jogging'],\n",
       " ['Walking'],\n",
       " ['Jogging'],\n",
       " ['Jogging'],\n",
       " ['Walking'],\n",
       " ['Jogging'],\n",
       " ['Jogging'],\n",
       " ['Jogging'],\n",
       " ['Jogging'],\n",
       " ['Walking'],\n",
       " ['Walking'],\n",
       " ['Jogging'],\n",
       " ['Jogging'],\n",
       " ['Walking'],\n",
       " ['Jogging'],\n",
       " ['Walking'],\n",
       " ['Jogging'],\n",
       " ['Jogging'],\n",
       " ['Walking'],\n",
       " ['Jogging'],\n",
       " ['Jogging'],\n",
       " ['Jogging'],\n",
       " ['Jogging'],\n",
       " ['Jogging'],\n",
       " ['Jogging'],\n",
       " ['Jogging'],\n",
       " ['Jogging'],\n",
       " ['Jogging'],\n",
       " ['Walking'],\n",
       " ['Jogging'],\n",
       " ['Jogging'],\n",
       " ['Walking'],\n",
       " ['Walking'],\n",
       " ['Walking'],\n",
       " ['Sitting'],\n",
       " ['Walking'],\n",
       " ['Walking'],\n",
       " ['Jogging'],\n",
       " ['Walking'],\n",
       " ['Jogging'],\n",
       " ['Walking'],\n",
       " ['Jogging'],\n",
       " ['Walking'],\n",
       " ['Walking'],\n",
       " ['Jogging'],\n",
       " ['Walking'],\n",
       " ['Walking'],\n",
       " ['Walking'],\n",
       " ['Walking'],\n",
       " ['Walking'],\n",
       " ['Walking'],\n",
       " ['Walking'],\n",
       " ['Walking'],\n",
       " ['Walking'],\n",
       " ['Walking'],\n",
       " ['Jogging'],\n",
       " ['Walking'],\n",
       " ['Walking'],\n",
       " ['Walking'],\n",
       " ['Walking'],\n",
       " ['Walking'],\n",
       " ['Walking'],\n",
       " ['Jogging'],\n",
       " ['Walking'],\n",
       " ['Jogging'],\n",
       " ['Jogging'],\n",
       " ['Walking'],\n",
       " ['Walking'],\n",
       " ['Walking'],\n",
       " ['Jogging'],\n",
       " ['Jogging'],\n",
       " ['Walking'],\n",
       " ['Walking'],\n",
       " ['Walking'],\n",
       " ['Walking'],\n",
       " ['Jogging'],\n",
       " ['Jogging'],\n",
       " ['Jogging'],\n",
       " ['Walking'],\n",
       " ['Jogging'],\n",
       " ['Walking'],\n",
       " ['Jogging'],\n",
       " ['Jogging'],\n",
       " ['Walking'],\n",
       " ['Walking'],\n",
       " ['Jogging'],\n",
       " ['Jogging'],\n",
       " ['Jogging'],\n",
       " ['Sitting'],\n",
       " ['Walking'],\n",
       " ['Walking'],\n",
       " ['Walking'],\n",
       " ...]"
      ]
     },
     "execution_count": 40,
     "metadata": {},
     "output_type": "execute_result"
    }
   ],
   "source": [
    "predict_class"
   ]
  },
  {
   "cell_type": "code",
   "execution_count": 41,
   "metadata": {},
   "outputs": [],
   "source": [
    "# import tensorflow as tf\n",
    "# from tensorflow import lite\n",
    "# converter = lite.TFLiteConverter.from_keras_model(model)\n",
    "# converter.target_spec.supported_ops = [\n",
    "#   tf.lite.OpsSet.TFLITE_BUILTINS, # enable TensorFlow Lite ops.\n",
    "#   tf.lite.OpsSet.SELECT_TF_OPS # enable TensorFlow ops.\n",
    "# ]\n",
    "# tfmodel = converter.convert()\n",
    "# open('LSTM_model.tflite', 'wb').write(tfmodel)"
   ]
  },
  {
   "cell_type": "code",
   "execution_count": 50,
   "metadata": {},
   "outputs": [
    {
     "name": "stderr",
     "output_type": "stream",
     "text": [
      "INFO: Created TensorFlow Lite delegate for select TF ops.\n",
      "2022-07-30 23:22:45.019370: I tensorflow/core/common_runtime/pluggable_device/pluggable_device_factory.cc:305] Could not identify NUMA node of platform GPU ID 0, defaulting to 0. Your kernel may not have been built with NUMA support.\n",
      "2022-07-30 23:22:45.019723: I tensorflow/core/common_runtime/pluggable_device/pluggable_device_factory.cc:271] Created TensorFlow device (/job:localhost/replica:0/task:0/device:GPU:0 with 0 MB memory) -> physical PluggableDevice (device: 0, name: METAL, pci bus id: <undefined>)\n",
      "INFO: TfLiteFlexDelegate delegate: 3 nodes delegated out of 13 nodes with 2 partitions.\n",
      "\n"
     ]
    }
   ],
   "source": [
    "# import tensorflow as tf\n",
    "# interpreter = tf.lite.Interpreter(model_path=\"/Users/gauravsharma/Documents/DIT/Lectures/KI5 Case Study Embedded Control Solutions/Project/Model/LSTM_model.tflite\")\n",
    "# interpreter.allocate_tensors()"
   ]
  },
  {
   "cell_type": "code",
   "execution_count": 51,
   "metadata": {},
   "outputs": [
    {
     "data": {
      "text/plain": [
       "array([1, 8, 3], dtype=int32)"
      ]
     },
     "execution_count": 51,
     "metadata": {},
     "output_type": "execute_result"
    }
   ],
   "source": [
    "# Loading TFlite model\n",
    "# input_details = interpreter.get_input_details()\n",
    "# output_details = interpreter.get_output_details()\n",
    "# input_details[0]['shape']"
   ]
  },
  {
   "cell_type": "code",
   "execution_count": 52,
   "metadata": {},
   "outputs": [
    {
     "name": "stderr",
     "output_type": "stream",
     "text": [
      "WARNING:absl:Found untraced functions such as lstm_cell_layer_call_fn, lstm_cell_layer_call_and_return_conditional_losses while saving (showing 2 of 2). These functions will not be directly callable after loading.\n"
     ]
    },
    {
     "name": "stdout",
     "output_type": "stream",
     "text": [
      "INFO:tensorflow:Assets written to: ram://36871fe3-2851-4905-bef8-e1e809192420/assets\n"
     ]
    },
    {
     "name": "stderr",
     "output_type": "stream",
     "text": [
      "INFO:tensorflow:Assets written to: ram://36871fe3-2851-4905-bef8-e1e809192420/assets\n"
     ]
    }
   ],
   "source": [
    "# Model saving to Pickel format\n",
    "# import pickle\n",
    "# with open('LSTM_model_pickle','wb') as f: #wb--> write byte \n",
    "#     pickle.dump(model,f)"
   ]
  },
  {
   "cell_type": "code",
   "execution_count": 53,
   "metadata": {},
   "outputs": [],
   "source": [
    "# #Loading pickel model\n",
    "# with open('LSTM_model_pickle','rb') as f: #wb--> read byte \n",
    "#     mp = pickle.load(f)"
   ]
  },
  {
   "cell_type": "code",
   "execution_count": null,
   "metadata": {},
   "outputs": [],
   "source": [
    "# mp.predict( ) #Prediction using Pickle model"
   ]
  },
  {
   "cell_type": "code",
   "execution_count": 59,
   "metadata": {},
   "outputs": [
    {
     "name": "stderr",
     "output_type": "stream",
     "text": [
      "WARNING:absl:Found untraced functions such as lstm_cell_layer_call_fn, lstm_cell_layer_call_and_return_conditional_losses while saving (showing 2 of 2). These functions will not be directly callable after loading.\n"
     ]
    },
    {
     "name": "stdout",
     "output_type": "stream",
     "text": [
      "INFO:tensorflow:Assets written to: ram://b713a453-0828-4537-884a-7aab2ba84945/assets\n"
     ]
    },
    {
     "name": "stderr",
     "output_type": "stream",
     "text": [
      "INFO:tensorflow:Assets written to: ram://b713a453-0828-4537-884a-7aab2ba84945/assets\n"
     ]
    }
   ],
   "source": [
    "#Second appoaching of converting model to pickel\n",
    "# pickle_out = open(\"LSTM_model\",\"wb\") \n",
    "# pickle.dump(model, pickle_out)\n",
    "# pickle_out.close()"
   ]
  },
  {
   "cell_type": "code",
   "execution_count": 33,
   "metadata": {},
   "outputs": [],
   "source": [
    "reshape_acc=[[[ 5.012288,   -0.61291564,  4.903325  ],\n",
    "  [ 5.012288,    3.5276701,  -1.56634   ],\n",
    "  [ 6.2789803,  5.829509,   11.264028  ],\n",
    "  [18.496431,   10.882658,   11.264028  ],\n",
    "  [13.593107,    8.308413,    2.982856  ],\n",
    "  [18.0061,      0.95342433,  3.0237172 ],\n",
    "  [-0.08172209,  0.95342433,  9.425281  ],\n",
    "  [-1.4573772,   2.9147544,   8.539958  ]]]"
   ]
  },
  {
   "cell_type": "code",
   "execution_count": 34,
   "metadata": {},
   "outputs": [
    {
     "data": {
      "text/plain": [
       "(1, 8, 3)"
      ]
     },
     "execution_count": 34,
     "metadata": {},
     "output_type": "execute_result"
    }
   ],
   "source": [
    "import numpy as np\n",
    "np.shape(reshape_acc)"
   ]
  },
  {
   "cell_type": "code",
   "execution_count": 36,
   "metadata": {},
   "outputs": [
    {
     "name": "stdout",
     "output_type": "stream",
     "text": [
      "1/1 [==============================] - 0s 236ms/step\n"
     ]
    },
    {
     "name": "stderr",
     "output_type": "stream",
     "text": [
      "2022-07-31 13:33:03.205774: I tensorflow/core/grappler/optimizers/custom_graph_optimizer_registry.cc:113] Plugin optimizer for device_type GPU is enabled.\n",
      "2022-07-31 13:33:03.265537: I tensorflow/core/grappler/optimizers/custom_graph_optimizer_registry.cc:113] Plugin optimizer for device_type GPU is enabled.\n"
     ]
    },
    {
     "data": {
      "text/plain": [
       "array([[9.9328130e-01, 2.8066267e-04, 6.4381082e-03]], dtype=float32)"
      ]
     },
     "execution_count": 36,
     "metadata": {},
     "output_type": "execute_result"
    }
   ],
   "source": [
    "# Loading pickel model\n",
    "import pickle\n",
    "with open('LSTM_model_pickle','rb') as f: #wb--> read byte \n",
    "    mp = pickle.load(f)\n",
    "mp.predict(reshape_acc)"
   ]
  },
  {
   "cell_type": "code",
   "execution_count": 62,
   "metadata": {},
   "outputs": [
    {
     "name": "stderr",
     "output_type": "stream",
     "text": [
      "WARNING:absl:Found untraced functions such as lstm_cell_layer_call_fn, lstm_cell_layer_call_and_return_conditional_losses while saving (showing 2 of 2). These functions will not be directly callable after loading.\n"
     ]
    },
    {
     "name": "stdout",
     "output_type": "stream",
     "text": [
      "INFO:tensorflow:Assets written to: ram://9eca1f00-826e-4158-a05a-b26beb3c6a98/assets\n"
     ]
    },
    {
     "name": "stderr",
     "output_type": "stream",
     "text": [
      "INFO:tensorflow:Assets written to: ram://9eca1f00-826e-4158-a05a-b26beb3c6a98/assets\n"
     ]
    },
    {
     "data": {
      "text/plain": [
       "['LSTM_model_joblib']"
      ]
     },
     "execution_count": 62,
     "metadata": {},
     "output_type": "execute_result"
    }
   ],
   "source": [
    "# #Saving model in Joblib format\n",
    "# import joblib\n",
    "# joblib.dump(model,'LSTM_model_joblib')"
   ]
  },
  {
   "cell_type": "code",
   "execution_count": 63,
   "metadata": {},
   "outputs": [],
   "source": [
    "# Load saved Joblibed model\n",
    "# mj = joblib.load('LSTM_model_joblib')\n",
    "# mj.predict( ) #for prediction"
   ]
  }
 ],
 "metadata": {
  "kernelspec": {
   "display_name": "Python 3.10.5 ('m1')",
   "language": "python",
   "name": "python3"
  },
  "language_info": {
   "codemirror_mode": {
    "name": "ipython",
    "version": 3
   },
   "file_extension": ".py",
   "mimetype": "text/x-python",
   "name": "python",
   "nbconvert_exporter": "python",
   "pygments_lexer": "ipython3",
   "version": "3.10.5"
  },
  "orig_nbformat": 4,
  "vscode": {
   "interpreter": {
    "hash": "d86276475b8a4878e6d38e73aa90ad7359ae25dc6c52818d7b185cb3ce304baa"
   }
  }
 },
 "nbformat": 4,
 "nbformat_minor": 2
}
